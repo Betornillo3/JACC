{
 "cells": [
  {
   "cell_type": "code",
   "execution_count": 0,
   "metadata": {
    "application/vnd.databricks.v1+cell": {
     "cellMetadata": {},
     "inputWidgets": {},
     "nuid": "1b862c75-e4aa-450f-b273-78f5a2ddb3a3",
     "showTitle": false,
     "title": ""
    }
   },
   "outputs": [],
   "source": [
    "from pyspark.sql import SparkSession\n",
    "from pyspark.sql.window import Window\n",
    "from pyspark.sql.functions import rank, col, when\n",
    "\n",
    "class DataLoader:\n",
    "    def __init__(self):\n",
    "        self.spark = SparkSession.builder.appName(\"Ejemplo\").getOrCreate()\n",
    "\n",
    "    def load_file(self, file_location):\n",
    "        file_type = \"csv\"\n",
    "\n",
    "        # CSV options\n",
    "        infer_schema = \"false\"\n",
    "        first_row_is_header = \"true\"\n",
    "        delimiter = \",\"\n",
    "\n",
    "        # Cargar el archivo\n",
    "        df = self.spark.read.format(file_type) \\\n",
    "            .option(\"inferSchema\", infer_schema) \\\n",
    "            .option(\"header\", first_row_is_header) \\\n",
    "            .option(\"sep\", delimiter) \\\n",
    "            .load(file_location)\n",
    "        return df\n",
    "\n",
    "class DataProcessor:\n",
    "    def __init__(self):\n",
    "        self.data_loader = DataLoader()\n",
    "        self.spark = self.data_loader.spark\n",
    "\n",
    "    def tabla_salida(self, df):\n",
    "        window = Window.partitionBy('nationality', 'team_position').orderBy(col('overall').desc())\n",
    "        df = df.withColumn('ranking', rank().over(window))\n",
    "        df = df.withColumn(\n",
    "            'player_cat',\n",
    "            when(col('ranking') <= 3, 'A')\n",
    "            .when(col('ranking') <= 5, 'B')\n",
    "            .when(col('ranking') <= 10, 'C')\n",
    "            .otherwise('D')\n",
    "        )\n",
    "        tabla_salida = df.select(\n",
    "            'short_name', 'long_name', 'age', 'height_cm', 'weight_kg', 'nationality',\n",
    "            'club_name', 'overall', 'potential', 'team_position', 'player_cat'\n",
    "        )\n",
    "        return tabla_salida\n",
    "\n",
    "    def filtrado(self, tabla_salida):\n",
    "        tabla_salida = tabla_salida.withColumn('potential_vs_overall', col('potential') / col('overall'))\n",
    "        df_filtrado = tabla_salida.filter(\n",
    "            (col('player_cat').isin('A', 'B')) |\n",
    "            ((col('player_cat') == 'C') & (col('potential_vs_overall') > 1.15)) |\n",
    "            ((col('player_cat') == 'D') & (col('potential_vs_overall') > 1.25))\n",
    "        )\n",
    "        return df_filtrado\n",
    "\n",
    "if __name__ == \"__main__\":\n",
    "    data_processor = DataProcessor()\n",
    "    df = data_processor.data_loader.load_file(\"/FileStore/tables/Libro1-3.csv\")\n",
    "\n",
    "    tabla_salida = data_processor.tabla_salida(df)\n",
    "    tabla_salida.show()\n",
    "\n",
    "    df_filtrado = data_processor.filtrado(tabla_salida)\n",
    "    df_filtrado.show()\n"
   ]
  }
 ],
 "metadata": {
  "application/vnd.databricks.v1+notebook": {
   "dashboards": [],
   "language": "python",
   "notebookMetadata": {
    "pythonIndentUnit": 4
   },
   "notebookName": "Untitled Notebook 2023-11-18 17:49:05",
   "widgets": {}
  }
 },
 "nbformat": 4,
 "nbformat_minor": 0
}
